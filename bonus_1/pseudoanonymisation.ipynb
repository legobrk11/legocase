{
 "cells": [
  {
   "cell_type": "code",
   "execution_count": 1,
   "metadata": {},
   "outputs": [],
   "source": [
    "import pandas as pd"
   ]
  },
  {
   "cell_type": "code",
   "execution_count": 2,
   "metadata": {},
   "outputs": [],
   "source": [
    "import uuid"
   ]
  },
  {
   "cell_type": "code",
   "execution_count": 3,
   "metadata": {},
   "outputs": [
    {
     "data": {
      "text/html": [
       "<div>\n",
       "<style scoped>\n",
       "    .dataframe tbody tr th:only-of-type {\n",
       "        vertical-align: middle;\n",
       "    }\n",
       "\n",
       "    .dataframe tbody tr th {\n",
       "        vertical-align: top;\n",
       "    }\n",
       "\n",
       "    .dataframe thead th {\n",
       "        text-align: right;\n",
       "    }\n",
       "</style>\n",
       "<table border=\"1\" class=\"dataframe\">\n",
       "  <thead>\n",
       "    <tr style=\"text-align: right;\">\n",
       "      <th></th>\n",
       "      <th>name</th>\n",
       "      <th>id</th>\n",
       "      <th>base_experience</th>\n",
       "      <th>weight</th>\n",
       "      <th>height</th>\n",
       "      <th>body_mass_index</th>\n",
       "      <th>order</th>\n",
       "      <th>slot_1</th>\n",
       "      <th>slot_2</th>\n",
       "      <th>front_default_sprite_url</th>\n",
       "    </tr>\n",
       "  </thead>\n",
       "  <tbody>\n",
       "    <tr>\n",
       "      <th>0</th>\n",
       "      <td>Bulbasaur</td>\n",
       "      <td>1</td>\n",
       "      <td>64</td>\n",
       "      <td>69</td>\n",
       "      <td>7</td>\n",
       "      <td>9.86</td>\n",
       "      <td>1</td>\n",
       "      <td>grass</td>\n",
       "      <td>poison</td>\n",
       "      <td>https://raw.githubusercontent.com/PokeAPI/spri...</td>\n",
       "    </tr>\n",
       "    <tr>\n",
       "      <th>1</th>\n",
       "      <td>Ivysaur</td>\n",
       "      <td>2</td>\n",
       "      <td>142</td>\n",
       "      <td>130</td>\n",
       "      <td>10</td>\n",
       "      <td>13.00</td>\n",
       "      <td>2</td>\n",
       "      <td>grass</td>\n",
       "      <td>poison</td>\n",
       "      <td>https://raw.githubusercontent.com/PokeAPI/spri...</td>\n",
       "    </tr>\n",
       "  </tbody>\n",
       "</table>\n",
       "</div>"
      ],
      "text/plain": [
       "        name  id  base_experience  weight  height  body_mass_index  order  \\\n",
       "0  Bulbasaur   1               64      69       7             9.86      1   \n",
       "1    Ivysaur   2              142     130      10            13.00      2   \n",
       "\n",
       "  slot_1  slot_2                           front_default_sprite_url  \n",
       "0  grass  poison  https://raw.githubusercontent.com/PokeAPI/spri...  \n",
       "1  grass  poison  https://raw.githubusercontent.com/PokeAPI/spri...  "
      ]
     },
     "execution_count": 3,
     "metadata": {},
     "output_type": "execute_result"
    }
   ],
   "source": [
    "columns = [\"name\",\"id\",\"base_experience\",\"weight\",\"height\",\"body_mass_index\",\"order\",\"slot_1\",\"slot_2\",\"front_default_sprite_url\"]\n",
    "\n",
    "raw_data = [[\"Bulbasaur\",1,64,69,7,9.86,1,\"grass\",\"poison\",\"https://raw.githubusercontent.com/PokeAPI/sprites/master/sprites/pokemon/1.png\"],\n",
    "[\"Ivysaur\",2,142,130,10,13.0,2,\"grass\",\"poison\",\"https://raw.githubusercontent.com/PokeAPI/sprites/master/sprites/pokemon/2.png\"]]\n",
    "\n",
    "raw_df = pd.DataFrame(raw_data, columns=columns)\n",
    "\n",
    "raw_df"
   ]
  },
  {
   "cell_type": "markdown",
   "metadata": {},
   "source": [
    "### Would need to either remove image url or apply a blur to the face and any identifiable components"
   ]
  },
  {
   "cell_type": "code",
   "execution_count": 4,
   "metadata": {},
   "outputs": [
    {
     "data": {
      "text/html": [
       "<div>\n",
       "<style scoped>\n",
       "    .dataframe tbody tr th:only-of-type {\n",
       "        vertical-align: middle;\n",
       "    }\n",
       "\n",
       "    .dataframe tbody tr th {\n",
       "        vertical-align: top;\n",
       "    }\n",
       "\n",
       "    .dataframe thead th {\n",
       "        text-align: right;\n",
       "    }\n",
       "</style>\n",
       "<table border=\"1\" class=\"dataframe\">\n",
       "  <thead>\n",
       "    <tr style=\"text-align: right;\">\n",
       "      <th></th>\n",
       "      <th>name</th>\n",
       "      <th>id</th>\n",
       "      <th>base_experience</th>\n",
       "      <th>weight</th>\n",
       "      <th>height</th>\n",
       "      <th>body_mass_index</th>\n",
       "      <th>order</th>\n",
       "      <th>slot_1</th>\n",
       "      <th>slot_2</th>\n",
       "    </tr>\n",
       "  </thead>\n",
       "  <tbody>\n",
       "    <tr>\n",
       "      <th>0</th>\n",
       "      <td>Bulbasaur</td>\n",
       "      <td>1</td>\n",
       "      <td>64</td>\n",
       "      <td>69</td>\n",
       "      <td>7</td>\n",
       "      <td>9.86</td>\n",
       "      <td>1</td>\n",
       "      <td>grass</td>\n",
       "      <td>poison</td>\n",
       "    </tr>\n",
       "    <tr>\n",
       "      <th>1</th>\n",
       "      <td>Ivysaur</td>\n",
       "      <td>2</td>\n",
       "      <td>142</td>\n",
       "      <td>130</td>\n",
       "      <td>10</td>\n",
       "      <td>13.00</td>\n",
       "      <td>2</td>\n",
       "      <td>grass</td>\n",
       "      <td>poison</td>\n",
       "    </tr>\n",
       "  </tbody>\n",
       "</table>\n",
       "</div>"
      ],
      "text/plain": [
       "        name  id  base_experience  weight  height  body_mass_index  order  \\\n",
       "0  Bulbasaur   1               64      69       7             9.86      1   \n",
       "1    Ivysaur   2              142     130      10            13.00      2   \n",
       "\n",
       "  slot_1  slot_2  \n",
       "0  grass  poison  \n",
       "1  grass  poison  "
      ]
     },
     "execution_count": 4,
     "metadata": {},
     "output_type": "execute_result"
    }
   ],
   "source": [
    "raw_df.drop('front_default_sprite_url', axis=1)"
   ]
  },
  {
   "cell_type": "markdown",
   "metadata": {},
   "source": [
    "### Replace name with a randomly generated hexidecimal string. Store name-to-string as a table on DB/schema with highly restrictive permissions"
   ]
  },
  {
   "cell_type": "code",
   "execution_count": 9,
   "metadata": {},
   "outputs": [
    {
     "data": {
      "text/plain": [
       "{'Bulbasaur': '6e6e1ff929b94b4a9bfae3732422ba5e',\n",
       " 'Ivysaur': 'f707f8b28fb941499eb4ad0092eb3f5a'}"
      ]
     },
     "execution_count": 9,
     "metadata": {},
     "output_type": "execute_result"
    }
   ],
   "source": [
    "name_to_random_id = dict(zip(raw_df['name'], [uuid.uuid4().hex for _ in range(0,len(raw_df['name']))]))\n",
    "\n",
    "name_to_random_id"
   ]
  },
  {
   "cell_type": "code",
   "execution_count": 10,
   "metadata": {},
   "outputs": [
    {
     "data": {
      "text/plain": [
       "0    6e6e1ff929b94b4a9bfae3732422ba5e\n",
       "1    f707f8b28fb941499eb4ad0092eb3f5a\n",
       "Name: name, dtype: object"
      ]
     },
     "execution_count": 10,
     "metadata": {},
     "output_type": "execute_result"
    }
   ],
   "source": [
    "raw_df['name'].replace(name_to_random_id)"
   ]
  }
 ],
 "metadata": {
  "kernelspec": {
   "display_name": "Python 3.10.7 ('venv': venv)",
   "language": "python",
   "name": "python3"
  },
  "language_info": {
   "codemirror_mode": {
    "name": "ipython",
    "version": 3
   },
   "file_extension": ".py",
   "mimetype": "text/x-python",
   "name": "python",
   "nbconvert_exporter": "python",
   "pygments_lexer": "ipython3",
   "version": "3.9.14"
  },
  "orig_nbformat": 4,
  "vscode": {
   "interpreter": {
    "hash": "480e1aa70f19bc89c4e30b130170c9c50bade96b7296ebc2f65ea1a5fd04d5b5"
   }
  }
 },
 "nbformat": 4,
 "nbformat_minor": 2
}
