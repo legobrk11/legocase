{
 "cells": [
  {
   "cell_type": "markdown",
   "metadata": {},
   "source": [
    "# Gotta Process 'Em all!\n",
    "\n",
    "1. The name, id, base_experience, weight, height and order of all Pokémon that appear in the any of the games red, blue, leafgreen or white.\n",
    "2. The name of the slot 1 (and if available 2) type of each of the Pokémon's types.\n",
    "3. The Body Mass Index of the Pokémon (hint: The formula for BMI is weight (kg) /\n",
    "height (m2))\n",
    "4. The first letter of names of the Pokémon should be capitalized.\n",
    "5. The url of the front_default sprite.\n",
    "6. Prepare the data in an appropriate data format. Consider if it should be multiple or a\n",
    "single file."
   ]
  },
  {
   "cell_type": "code",
   "execution_count": 1,
   "metadata": {},
   "outputs": [],
   "source": [
    "import httpx \n",
    "import pprint\n",
    "import pandas as pd\n",
    "import asyncio\n",
    "import time\n",
    "from urllib.parse import urljoin\n",
    "from functools import reduce\n",
    "\n",
    "import sys\n",
    "sys.path.insert(0,'..')\n",
    "from pokeapi import helpers as ph"
   ]
  },
  {
   "cell_type": "code",
   "execution_count": 2,
   "metadata": {},
   "outputs": [],
   "source": [
    "BASE_URL= \"https://pokeapi.co/api/v2/\"\n",
    "VERSIONS_OF_INTEREST = ['red', 'blue', 'leafgreen', 'white']"
   ]
  },
  {
   "cell_type": "code",
   "execution_count": 3,
   "metadata": {},
   "outputs": [],
   "source": [
    "pokemon_species = []\n",
    "\n",
    "for vn in VERSIONS_OF_INTEREST:\n",
    "    with httpx.Client(base_url=BASE_URL) as client:\n",
    "        version_id, version_group = ph.get_version_id_and_version_group(client=client, version_name=vn)\n",
    "        version_group_pokedexs = ph.get_version_group_pokedexs(client=client, version_group_name=version_group)\n",
    "        for pokedex in version_group_pokedexs:\n",
    "            pokemon_species.append(ph.get_pokemon_species(client=client, pokedex_name=pokedex))\n",
    "\n",
    "unique_target_pokemon = set(ph.flatten_list(pokemon_species))       \n"
   ]
  },
  {
   "cell_type": "code",
   "execution_count": 4,
   "metadata": {},
   "outputs": [],
   "source": [
    "client = httpx.AsyncClient()\n",
    "tasks = []\n",
    "for p in unique_target_pokemon:\n",
    "    tasks.append(asyncio.ensure_future(ph.get_default_pokemon(client, pokemon_species=p)))\n",
    "    \n",
    "pokemon_raw_json = await asyncio.gather(*tasks)\n",
    "_ = client.aclose()\n"
   ]
  },
  {
   "cell_type": "code",
   "execution_count": 6,
   "metadata": {},
   "outputs": [],
   "source": [
    "raw_df = pd.DataFrame(pokemon_raw_json)\n",
    "raw_df['slot_1'] = raw_df['types'].str[0].str['type'].str['name']\n",
    "raw_df['slot_2'] = raw_df['types'].str[1].str['type'].str['name']\n",
    "\n",
    "raw_df['body_mass_index'] = (raw_df['weight'] / raw_df['height']).round(2)\n",
    "\n",
    "raw_df['name'] = raw_df['name'].str.title()\n",
    "\n",
    "raw_df['front_default_sprite_url'] = raw_df['sprites'].str['front_default']\n",
    "\n",
    "columns_subset = [\"name\", \"id\", \"base_experience\", \"weight\", \"height\", \"body_mass_index\", \"order\", \"slot_1\", \"slot_2\", \"front_default_sprite_url\"]\n",
    "\n",
    "\n",
    "output_df = raw_df[columns_subset].sort_values('order').to_csv('data.csv', index=False)"
   ]
  },
  {
   "cell_type": "code",
   "execution_count": null,
   "metadata": {},
   "outputs": [],
   "source": []
  },
  {
   "cell_type": "code",
   "execution_count": null,
   "metadata": {},
   "outputs": [],
   "source": []
  }
 ],
 "metadata": {
  "kernelspec": {
   "display_name": "Python 3.10.7 ('venv': venv)",
   "language": "python",
   "name": "python3"
  },
  "language_info": {
   "codemirror_mode": {
    "name": "ipython",
    "version": 3
   },
   "file_extension": ".py",
   "mimetype": "text/x-python",
   "name": "python",
   "nbconvert_exporter": "python",
   "pygments_lexer": "ipython3",
   "version": "3.9.14"
  },
  "orig_nbformat": 4,
  "vscode": {
   "interpreter": {
    "hash": "480e1aa70f19bc89c4e30b130170c9c50bade96b7296ebc2f65ea1a5fd04d5b5"
   }
  }
 },
 "nbformat": 4,
 "nbformat_minor": 2
}
